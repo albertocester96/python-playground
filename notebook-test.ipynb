{
 "cells": [
  {
   "cell_type": "code",
   "execution_count": null,
   "metadata": {},
   "outputs": [],
   "source": [
    "def check_empty(lista):\n",
    "    if not lista:\n",
    "        print (\"La tua lista è vuota\")\n",
    "     \n",
    "def aggiungi_attività(lista):\n",
    "    attività_utente= input(\"Quale attività vuoi ricordare?: \")\n",
    "\n",
    "    if attività_utente != \"\": \n",
    "        lista.append(attività_utente)\n",
    "        print(\"La tua lista è: \", lista)\n",
    "\n",
    "    else:\n",
    "        print(\"Non hai inserito nessuna attività, prova a scrivere qualcosa\")\n",
    "        aggiungi_attività(lista)\n",
    "        \n",
    "    return lista\n",
    "\n",
    "def rimuovi_attività (lista):\n",
    "    check_empty(lista)\n",
    "    attività_da_rimuovere = input (\"Quale attività vuoi rimuovere?: \")\n",
    "    lista.remove(attività_da_rimuovere)\n",
    "    print(\"Hai rimosso l'attività: \"+ attività_da_rimuovere)\n",
    "    \n",
    "    if not check_empty(lista):\n",
    "        print(lista)\n",
    "\n",
    "def domanda(lista):\n",
    "    \n",
    "    aggiungi_attività(lista)\n",
    "    \n",
    "    altro = input(\"Vuoi aggiungere altro? [Enter: si/no:]: \")\n",
    "       \n",
    "    if altro.lower() == \"si\":\n",
    "        check_empty(lista)\n",
    "        domanda(lista)\n",
    "    else: \n",
    "        print(\"La tua lista è: \", lista)\n",
    "        rimuovi = input(\". Vuoi rimuovere qualche attività?[si/no] \")\n",
    "            \n",
    "        if rimuovi.lower() == \"si\":\n",
    "            rimuovi_attività(lista)\n",
    "        elif rimuovi.lower() == \"no\":\n",
    "            exit\n",
    "    \n",
    "    \n",
    "\n",
    "lista_attività = [] \n",
    "domanda(lista_attività)"
   ]
  },
  {
   "cell_type": "code",
   "execution_count": 3,
   "metadata": {},
   "outputs": [
    {
     "name": "stdout",
     "output_type": "stream",
     "text": [
      "Non hai inserito nessun valore\n",
      "Non hai inserito nessun valore\n",
      "Il risultato della somma è:  \n"
     ]
    },
    {
     "ename": "",
     "evalue": "",
     "output_type": "error",
     "traceback": [
      "\u001b[1;31mThe Kernel crashed while executing code in the the current cell or a previous cell. Please review the code in the cell(s) to identify a possible cause of the failure. Click <a href='https://aka.ms/vscodeJupyterKernelCrash'>here</a> for more info. View Jupyter <a href='command:jupyter.viewOutput'>log</a> for further details."
     ]
    }
   ],
   "source": [
    "import sys\n",
    "\n",
    "tipo_calcolo = input(\"Che tipo di operazione vuoi fare? Somma(1) - sottrazione(2) - moltiplicazione(3) - divisione(4) \")\n",
    "\n",
    "tipologie = {\"sommare\" : 1, \"sottrarre\": 2, \"motiplicare\": 3, \"dividere\": 4}\n",
    "\n",
    "def check_iniziale (chiave):\n",
    "\n",
    "    while True:\n",
    "        valore_ini= input(\"Qual è il primo valore che vuoi \" + chiave + \"?: \")\n",
    "    \n",
    "        return valore_ini\n",
    "        \n",
    "    \n",
    "def check_finale(chiave):\n",
    "\n",
    "    while True:\n",
    "        valore_fin= input(\"Qual è il secondo valore che vuoi \" + chiave + \"?: \")\n",
    "    \n",
    "        return valore_fin\n",
    "\n",
    "        \n",
    "def check_null(valore):\n",
    "\n",
    "    if valore== \"\":\n",
    "        try: \n",
    "            print(\"Non hai inserito nessun valore\") \n",
    "            exit_program()\n",
    "        except ValueError:\n",
    "            print(\"Il valore inserito non è valido\")\n",
    "            exit_program()\n",
    "        return False\n",
    "    \n",
    "def exit_program():\n",
    "    print(\"Sto uscendo dal programma...\")\n",
    "    exit()\n",
    "   \n",
    "\n",
    "if int(tipo_calcolo) == int(tipologie[\"sommare\"]):\n",
    "    valore_iniziale = check_iniziale(\"sommare\")\n",
    "    check_null(valore_iniziale)\n",
    "    valore_finale = check_finale(\"sommare\")\n",
    "    check_null(valore_finale)\n",
    "\n",
    "    risultato = valore_iniziale + valore_finale\n",
    "    print(f\"Il risultato della somma è: \", risultato)\n",
    "\n",
    "elif int(tipo_calcolo) == int(tipologie[\"sottrarre\"]):\n",
    "    check_iniziale()\n"
   ]
  }
 ],
 "metadata": {
  "kernelspec": {
   "display_name": "Python 3",
   "language": "python",
   "name": "python3"
  },
  "language_info": {
   "codemirror_mode": {
    "name": "ipython",
    "version": 3
   },
   "file_extension": ".py",
   "mimetype": "text/x-python",
   "name": "python",
   "nbconvert_exporter": "python",
   "pygments_lexer": "ipython3",
   "version": "3.12.0"
  }
 },
 "nbformat": 4,
 "nbformat_minor": 2
}
