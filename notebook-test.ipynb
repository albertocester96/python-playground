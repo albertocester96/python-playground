{
 "cells": [
  {
   "cell_type": "code",
   "execution_count": 25,
   "metadata": {},
   "outputs": [
    {
     "name": "stdout",
     "output_type": "stream",
     "text": [
      "La tua lista è:  ['prova']\n",
      "La tua lista è:  ['prova', 'prova 2']\n",
      "La tua lista è:  ['prova', 'prova 2', 'prova 3']\n",
      "La tua lista è:  ['prova', 'prova 2', 'prova 3']\n",
      "hai rimosso l'attività: prova 3\n",
      "['prova', 'prova 2']\n"
     ]
    }
   ],
   "source": [
    "def check_empty(lista):\n",
    "    if not lista:\n",
    "        print (\"La tua lista è vuota\")\n",
    "     \n",
    "def aggiungi_attività(lista):\n",
    "    attività_utente= input(\"Quale attività vuoi ricordare?: \")\n",
    "\n",
    "    if attività_utente != \"\": \n",
    "        lista.append(attività_utente)\n",
    "        print(\"La tua lista è: \", lista)\n",
    "\n",
    "    else:\n",
    "        print(\"Non hai inserito nessuna attività, prova a scrivere qualcosa\")\n",
    "        aggiungi_attività(lista)\n",
    "        \n",
    "    return lista\n",
    "\n",
    "def rimuovi_attività (lista):\n",
    "    check_empty(lista)\n",
    "    attività_da_rimuovere = input (\"Quale attività vuoi rimuovere?: \")\n",
    "    lista.remove(attività_da_rimuovere)\n",
    "    print(\"Hai rimosso l'attività: \"+ attività_da_rimuovere)\n",
    "    \n",
    "    if not check_empty(lista):\n",
    "        print(lista)\n",
    "\n",
    "def domanda(lista):\n",
    "    \n",
    "    aggiungi_attività(lista)\n",
    "    \n",
    "    altro = input(\"Vuoi aggiungere altro? [Enter: si/no:]: \")\n",
    "       \n",
    "    if altro.lower() == \"si\":\n",
    "        check_empty(lista)\n",
    "        domanda(lista)\n",
    "    else: \n",
    "        print(\"La tua lista è: \", lista)\n",
    "        rimuovi = input(\". Vuoi rimuovere qualche attività?[si/no] \")\n",
    "            \n",
    "        if rimuovi.lower() == \"si\":\n",
    "            rimuovi_attività(lista)\n",
    "        elif rimuovi.lower() == \"no\":\n",
    "            exit\n",
    "    \n",
    "    \n",
    "\n",
    "lista_attività = [] \n",
    "domanda(lista_attività)"
   ]
  }
 ],
 "metadata": {
  "kernelspec": {
   "display_name": "Python 3",
   "language": "python",
   "name": "python3"
  },
  "language_info": {
   "codemirror_mode": {
    "name": "ipython",
    "version": 3
   },
   "file_extension": ".py",
   "mimetype": "text/x-python",
   "name": "python",
   "nbconvert_exporter": "python",
   "pygments_lexer": "ipython3",
   "version": "3.12.0"
  }
 },
 "nbformat": 4,
 "nbformat_minor": 2
}
