{
 "cells": [
  {
   "cell_type": "code",
   "execution_count": 4,
   "metadata": {},
   "outputs": [
    {
     "name": "stdout",
     "output_type": "stream",
     "text": [
      "['prova']\n",
      "['prova', 'prova 2']\n",
      "['prova 2']\n"
     ]
    },
    {
     "data": {
      "text/plain": [
       "['prova 2']"
      ]
     },
     "execution_count": 4,
     "metadata": {},
     "output_type": "execute_result"
    }
   ],
   "source": [
    "def aggiungi_attività(attività, lista):\n",
    "    lista.append(attività)\n",
    "    return lista\n",
    "\n",
    "def rimuovi_attività (lista):\n",
    "    attività_da_rimuovere = input (\"Quale attività vuoi rimuovere?: \")\n",
    "    lista.remove(attività_da_rimuovere)\n",
    "    return lista\n",
    "\n",
    "def domanda(lista):\n",
    "    \n",
    "    attività_utente= input(\"Quale attività vuoi ricordare?: \")\n",
    "\n",
    "    if attività_utente != \"\": \n",
    "        aggiungi_attività(attività_utente, lista)\n",
    "        print(lista)\n",
    "        altro = input(\"Vuoi aggiungere altro? [Enter: si/no:]: \")\n",
    "       \n",
    "        if altro.lower() == \"si\":\n",
    "            domanda(lista)\n",
    "        else: \n",
    "            rimuovi = input(\"Vuoi rimuovere qualche attività? \")\n",
    "            \n",
    "            if rimuovi.lower() == \"si\":\n",
    "                rimuovi_attività(lista)\n",
    "                print(lista)\n",
    "    else:\n",
    "        print(\"Non hai indicato nessun valore, riprova\")\n",
    "        domanda(lista)\n",
    "    return lista\n",
    "\n",
    "lista_attività = [] \n",
    "domanda(lista_attività)"
   ]
  }
 ],
 "metadata": {
  "kernelspec": {
   "display_name": "Python 3",
   "language": "python",
   "name": "python3"
  },
  "language_info": {
   "codemirror_mode": {
    "name": "ipython",
    "version": 3
   },
   "file_extension": ".py",
   "mimetype": "text/x-python",
   "name": "python",
   "nbconvert_exporter": "python",
   "pygments_lexer": "ipython3",
   "version": "3.12.0"
  }
 },
 "nbformat": 4,
 "nbformat_minor": 2
}
